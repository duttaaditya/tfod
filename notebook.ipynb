{
 "cells": [
  {
   "cell_type": "code",
   "execution_count": 1,
   "metadata": {},
   "outputs": [],
   "source": [
    "import os\n",
    "import sys\n",
    "import pandas as pd"
   ]
  },
  {
   "cell_type": "code",
   "execution_count": 2,
   "metadata": {},
   "outputs": [
    {
     "name": "stdout",
     "output_type": "stream",
     "text": [
      ".\\train\n"
     ]
    }
   ],
   "source": [
    "folder_path = str(\".\\\\train\")\n",
    "print(folder_path)\n",
    "files = os.listdir(folder_path)\n",
    "# for fno in enumerate(files):\n",
    "#     os.rename(\".\\\\train\"+\"\\\\\"+fno[1],'.\\\\train\\\\'+'traffic_'+str(fno[0])+'.png')"
   ]
  },
  {
   "cell_type": "code",
   "execution_count": 5,
   "metadata": {},
   "outputs": [
    {
     "name": "stdout",
     "output_type": "stream",
     "text": [
      "TensorFlow version :  2.12.0\n"
     ]
    }
   ],
   "source": [
    "import tensorflow as tf\n",
    "print(\"TensorFlow version : \",tf.__version__)"
   ]
  },
  {
   "cell_type": "code",
   "execution_count": 9,
   "metadata": {},
   "outputs": [
    {
     "name": "stderr",
     "output_type": "stream",
     "text": [
      "[nltk_data] Downloading package punkt to\n",
      "[nltk_data]     C:\\Users\\adutt\\AppData\\Roaming\\nltk_data...\n",
      "[nltk_data]   Unzipping tokenizers\\punkt.zip.\n"
     ]
    },
    {
     "data": {
      "text/plain": [
       "True"
      ]
     },
     "execution_count": 9,
     "metadata": {},
     "output_type": "execute_result"
    }
   ],
   "source": [
    "import nltk \n",
    "nltk.download('punkt')"
   ]
  },
  {
   "cell_type": "code",
   "execution_count": 4,
   "metadata": {},
   "outputs": [
    {
     "data": {
      "text/plain": [
       "' \\nThe increase in the global atmospheric CO2 concentration resulting from over a century of combustion of fossil fuels has been associated with significant global climate change. With the global population increase driving continued increases in fossil fuel use, humanity’s primary reliance on fossil energy for the next several decades is assured. Traditional modes of carbon capture such as precombustion and postcombustion CO2 capture from large point sources can help slow the rate of increase of the atmospheric CO2 concentration, but only the direct removal of CO2 from the air, or “direct air capture” (DAC), can actually reduce the global atmospheric CO2 concentration. The past decade has seen a steep rise in the use of chemical sorbents that are cycled through sorption and desorption cycles for CO2 removal from ultradilute gases such as air. This Review provides a historical overview of the field of DAC, along with an exhaustive description of the use of chemical sorbents targeted at this application. Solvents and solid sorbents that interact strongly with CO2 are described, including basic solvents, supported amine and ammonium materials, and metal–organic frameworks (MOFs), as the primary classes of chemical sorbents. Hypothetical processes for the deployment of such sorbents are discussed, as well as the limited array of technoeconomic analyses published on DAC. Overall, it is concluded that there are many new materials that could play a role in emerging DAC technologies. However, these materials need to be further investigated and developed with a practical sorbent–air contacting process in mind if society is to make rapid progress in deploying DAC as a means of mitigating climate change.\\n'"
      ]
     },
     "execution_count": 4,
     "metadata": {},
     "output_type": "execute_result"
    }
   ],
   "source": [
    "para = \"\"\" \n",
    "The increase in the global atmospheric CO2 concentration resulting from over a century of combustion of fossil fuels has been associated with significant global climate change. With the global population increase driving continued increases in fossil fuel use, humanity’s primary reliance on fossil energy for the next several decades is assured. Traditional modes of carbon capture such as precombustion and postcombustion CO2 capture from large point sources can help slow the rate of increase of the atmospheric CO2 concentration, but only the direct removal of CO2 from the air, or “direct air capture” (DAC), can actually reduce the global atmospheric CO2 concentration. The past decade has seen a steep rise in the use of chemical sorbents that are cycled through sorption and desorption cycles for CO2 removal from ultradilute gases such as air. This Review provides a historical overview of the field of DAC, along with an exhaustive description of the use of chemical sorbents targeted at this application. Solvents and solid sorbents that interact strongly with CO2 are described, including basic solvents, supported amine and ammonium materials, and metal–organic frameworks (MOFs), as the primary classes of chemical sorbents. Hypothetical processes for the deployment of such sorbents are discussed, as well as the limited array of technoeconomic analyses published on DAC. Overall, it is concluded that there are many new materials that could play a role in emerging DAC technologies. However, these materials need to be further investigated and developed with a practical sorbent–air contacting process in mind if society is to make rapid progress in deploying DAC as a means of mitigating climate change.\n",
    "\"\"\"\n",
    "para"
   ]
  },
  {
   "cell_type": "code",
   "execution_count": 10,
   "metadata": {},
   "outputs": [
    {
     "name": "stdout",
     "output_type": "stream",
     "text": [
      "[' \\nThe increase in the global atmospheric CO2 concentration resulting from over a century of combustion of fossil fuels has been associated with significant global climate change.', 'With the global population increase driving continued increases in fossil fuel use, humanity’s primary reliance on fossil energy for the next several decades is assured.', 'Traditional modes of carbon capture such as precombustion and postcombustion CO2 capture from large point sources can help slow the rate of increase of the atmospheric CO2 concentration, but only the direct removal of CO2 from the air, or “direct air capture” (DAC), can actually reduce the global atmospheric CO2 concentration.', 'The past decade has seen a steep rise in the use of chemical sorbents that are cycled through sorption and desorption cycles for CO2 removal from ultradilute gases such as air.', 'This Review provides a historical overview of the field of DAC, along with an exhaustive description of the use of chemical sorbents targeted at this application.', 'Solvents and solid sorbents that interact strongly with CO2 are described, including basic solvents, supported amine and ammonium materials, and metal–organic frameworks (MOFs), as the primary classes of chemical sorbents.', 'Hypothetical processes for the deployment of such sorbents are discussed, as well as the limited array of technoeconomic analyses published on DAC.', 'Overall, it is concluded that there are many new materials that could play a role in emerging DAC technologies.', 'However, these materials need to be further investigated and developed with a practical sorbent–air contacting process in mind if society is to make rapid progress in deploying DAC as a means of mitigating climate change.']\n",
      "9\n"
     ]
    }
   ],
   "source": [
    "sent = nltk.sent_tokenize(para)\n",
    "print(sent)\n",
    "print(len(sent))\n"
   ]
  },
  {
   "cell_type": "code",
   "execution_count": 11,
   "metadata": {},
   "outputs": [
    {
     "name": "stdout",
     "output_type": "stream",
     "text": [
      " \n",
      "The increase in the global atmospheric CO2 concentration resulting from over a century of combustion of fossil fuels has been associated with significant global climate change.\n",
      "With the global population increase driving continued increases in fossil fuel use, humanity’s primary reliance on fossil energy for the next several decades is assured.\n",
      "Traditional modes of carbon capture such as precombustion and postcombustion CO2 capture from large point sources can help slow the rate of increase of the atmospheric CO2 concentration, but only the direct removal of CO2 from the air, or “direct air capture” (DAC), can actually reduce the global atmospheric CO2 concentration.\n",
      "The past decade has seen a steep rise in the use of chemical sorbents that are cycled through sorption and desorption cycles for CO2 removal from ultradilute gases such as air.\n",
      "This Review provides a historical overview of the field of DAC, along with an exhaustive description of the use of chemical sorbents targeted at this application.\n",
      "Solvents and solid sorbents that interact strongly with CO2 are described, including basic solvents, supported amine and ammonium materials, and metal–organic frameworks (MOFs), as the primary classes of chemical sorbents.\n",
      "Hypothetical processes for the deployment of such sorbents are discussed, as well as the limited array of technoeconomic analyses published on DAC.\n",
      "Overall, it is concluded that there are many new materials that could play a role in emerging DAC technologies.\n",
      "However, these materials need to be further investigated and developed with a practical sorbent–air contacting process in mind if society is to make rapid progress in deploying DAC as a means of mitigating climate change.\n"
     ]
    }
   ],
   "source": [
    "for i in sent:\n",
    "    print(i)"
   ]
  },
  {
   "cell_type": "code",
   "execution_count": 12,
   "metadata": {},
   "outputs": [],
   "source": [
    "import re\n",
    "from nltk.stem import PorterStemmer\n",
    "from nltk.corpus import stopwords"
   ]
  },
  {
   "cell_type": "code",
   "execution_count": 23,
   "metadata": {},
   "outputs": [
    {
     "data": {
      "text/plain": [
       "'h'"
      ]
     },
     "execution_count": 23,
     "metadata": {},
     "output_type": "execute_result"
    }
   ],
   "source": [
    "stemmer = PorterStemmer()\n",
    "\n",
    "stemmer.stem()"
   ]
  },
  {
   "cell_type": "code",
   "execution_count": 24,
   "metadata": {},
   "outputs": [
    {
     "ename": "PermissionError",
     "evalue": "[Errno 13] Permission denied: 'C:\\\\Users\\\\adutt\\\\AppData\\\\Roaming\\\\nltk_data\\\\corpora\\\\stopwords'",
     "output_type": "error",
     "traceback": [
      "\u001b[1;31m---------------------------------------------------------------------------\u001b[0m",
      "\u001b[1;31mPermissionError\u001b[0m                           Traceback (most recent call last)",
      "Cell \u001b[1;32mIn[24], line 1\u001b[0m\n\u001b[1;32m----> 1\u001b[0m stopwords\u001b[39m.\u001b[39;49mwords(para[\u001b[39m0\u001b[39;49m])\n",
      "File \u001b[1;32mc:\\Users\\adutt\\Documents\\project-library\\tfod\\pycont\\lib\\site-packages\\nltk\\corpus\\reader\\wordlist.py:21\u001b[0m, in \u001b[0;36mWordListCorpusReader.words\u001b[1;34m(self, fileids, ignore_lines_startswith)\u001b[0m\n\u001b[0;32m     18\u001b[0m \u001b[39mdef\u001b[39;00m \u001b[39mwords\u001b[39m(\u001b[39mself\u001b[39m, fileids\u001b[39m=\u001b[39m\u001b[39mNone\u001b[39;00m, ignore_lines_startswith\u001b[39m=\u001b[39m\u001b[39m\"\u001b[39m\u001b[39m\\n\u001b[39;00m\u001b[39m\"\u001b[39m):\n\u001b[0;32m     19\u001b[0m     \u001b[39mreturn\u001b[39;00m [\n\u001b[0;32m     20\u001b[0m         line\n\u001b[1;32m---> 21\u001b[0m         \u001b[39mfor\u001b[39;00m line \u001b[39min\u001b[39;00m line_tokenize(\u001b[39mself\u001b[39;49m\u001b[39m.\u001b[39;49mraw(fileids))\n\u001b[0;32m     22\u001b[0m         \u001b[39mif\u001b[39;00m \u001b[39mnot\u001b[39;00m line\u001b[39m.\u001b[39mstartswith(ignore_lines_startswith)\n\u001b[0;32m     23\u001b[0m     ]\n",
      "File \u001b[1;32mc:\\Users\\adutt\\Documents\\project-library\\tfod\\pycont\\lib\\site-packages\\nltk\\corpus\\reader\\api.py:218\u001b[0m, in \u001b[0;36mCorpusReader.raw\u001b[1;34m(self, fileids)\u001b[0m\n\u001b[0;32m    216\u001b[0m contents \u001b[39m=\u001b[39m []\n\u001b[0;32m    217\u001b[0m \u001b[39mfor\u001b[39;00m f \u001b[39min\u001b[39;00m fileids:\n\u001b[1;32m--> 218\u001b[0m     \u001b[39mwith\u001b[39;00m \u001b[39mself\u001b[39;49m\u001b[39m.\u001b[39;49mopen(f) \u001b[39mas\u001b[39;00m fp:\n\u001b[0;32m    219\u001b[0m         contents\u001b[39m.\u001b[39mappend(fp\u001b[39m.\u001b[39mread())\n\u001b[0;32m    220\u001b[0m \u001b[39mreturn\u001b[39;00m concat(contents)\n",
      "File \u001b[1;32mc:\\Users\\adutt\\Documents\\project-library\\tfod\\pycont\\lib\\site-packages\\nltk\\corpus\\reader\\api.py:231\u001b[0m, in \u001b[0;36mCorpusReader.open\u001b[1;34m(self, file)\u001b[0m\n\u001b[0;32m    223\u001b[0m \u001b[39m\u001b[39m\u001b[39m\"\"\"\u001b[39;00m\n\u001b[0;32m    224\u001b[0m \u001b[39mReturn an open stream that can be used to read the given file.\u001b[39;00m\n\u001b[0;32m    225\u001b[0m \u001b[39mIf the file's encoding is not None, then the stream will\u001b[39;00m\n\u001b[1;32m   (...)\u001b[0m\n\u001b[0;32m    228\u001b[0m \u001b[39m:param file: The file identifier of the file to read.\u001b[39;00m\n\u001b[0;32m    229\u001b[0m \u001b[39m\"\"\"\u001b[39;00m\n\u001b[0;32m    230\u001b[0m encoding \u001b[39m=\u001b[39m \u001b[39mself\u001b[39m\u001b[39m.\u001b[39mencoding(file)\n\u001b[1;32m--> 231\u001b[0m stream \u001b[39m=\u001b[39m \u001b[39mself\u001b[39;49m\u001b[39m.\u001b[39;49m_root\u001b[39m.\u001b[39;49mjoin(file)\u001b[39m.\u001b[39;49mopen(encoding)\n\u001b[0;32m    232\u001b[0m \u001b[39mreturn\u001b[39;00m stream\n",
      "File \u001b[1;32mc:\\Users\\adutt\\Documents\\project-library\\tfod\\pycont\\lib\\site-packages\\nltk\\data.py:324\u001b[0m, in \u001b[0;36mFileSystemPathPointer.open\u001b[1;34m(self, encoding)\u001b[0m\n\u001b[0;32m    323\u001b[0m \u001b[39mdef\u001b[39;00m \u001b[39mopen\u001b[39m(\u001b[39mself\u001b[39m, encoding\u001b[39m=\u001b[39m\u001b[39mNone\u001b[39;00m):\n\u001b[1;32m--> 324\u001b[0m     stream \u001b[39m=\u001b[39m \u001b[39mopen\u001b[39;49m(\u001b[39mself\u001b[39;49m\u001b[39m.\u001b[39;49m_path, \u001b[39m\"\u001b[39;49m\u001b[39mrb\u001b[39;49m\u001b[39m\"\u001b[39;49m)\n\u001b[0;32m    325\u001b[0m     \u001b[39mif\u001b[39;00m encoding \u001b[39mis\u001b[39;00m \u001b[39mnot\u001b[39;00m \u001b[39mNone\u001b[39;00m:\n\u001b[0;32m    326\u001b[0m         stream \u001b[39m=\u001b[39m SeekableUnicodeStreamReader(stream, encoding)\n",
      "\u001b[1;31mPermissionError\u001b[0m: [Errno 13] Permission denied: 'C:\\\\Users\\\\adutt\\\\AppData\\\\Roaming\\\\nltk_data\\\\corpora\\\\stopwords'"
     ]
    }
   ],
   "source": [
    "for s in sent:\n",
    "    s."
   ]
  },
  {
   "cell_type": "code",
   "execution_count": null,
   "metadata": {},
   "outputs": [],
   "source": []
  }
 ],
 "metadata": {
  "kernelspec": {
   "display_name": "Python 3 (ipykernel)",
   "language": "python",
   "name": "python3"
  },
  "language_info": {
   "codemirror_mode": {
    "name": "ipython",
    "version": 3
   },
   "file_extension": ".py",
   "mimetype": "text/x-python",
   "name": "python",
   "nbconvert_exporter": "python",
   "pygments_lexer": "ipython3",
   "version": "3.9.7"
  },
  "orig_nbformat": 4
 },
 "nbformat": 4,
 "nbformat_minor": 2
}
